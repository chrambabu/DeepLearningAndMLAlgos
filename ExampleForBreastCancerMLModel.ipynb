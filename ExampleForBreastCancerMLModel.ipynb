{
    "nbformat_minor": 1, 
    "cells": [
        {
            "source": "#### Load and explore data", 
            "cell_type": "markdown", 
            "metadata": {}
        }, 
        {
            "execution_count": 1, 
            "cell_type": "code", 
            "metadata": {}, 
            "outputs": [], 
            "source": "# The code was removed by DSX for sharing."
        }, 
        {
            "source": "#### We can see how many records and features we have in our data set.", 
            "cell_type": "markdown", 
            "metadata": {}
        }, 
        {
            "execution_count": 2, 
            "cell_type": "code", 
            "metadata": {}, 
            "outputs": [], 
            "source": "#df_data.shape"
        }, 
        {
            "execution_count": 3, 
            "cell_type": "code", 
            "metadata": {}, 
            "outputs": [], 
            "source": "#df_data.describe()"
        }, 
        {
            "execution_count": 4, 
            "cell_type": "code", 
            "metadata": {}, 
            "outputs": [], 
            "source": "y = df_data['diagnosis'].map(lambda d: 1 if d == 'M' else 0)\nX = df_data.drop(['diagnosis', 'id'], axis=1)"
        }, 
        {
            "source": "###### We split the data set into: train and test data sets.", 
            "cell_type": "markdown", 
            "metadata": {}
        }, 
        {
            "execution_count": 5, 
            "cell_type": "code", 
            "metadata": {}, 
            "outputs": [
                {
                    "output_type": "stream", 
                    "name": "stderr", 
                    "text": "/opt/conda/envs/DSX-Python35/lib/python3.5/site-packages/sklearn/cross_validation.py:41: DeprecationWarning: This module was deprecated in version 0.18 in favor of the model_selection module into which all the refactored classes and functions are moved. Also note that the interface of the new CV iterators are different from that of this module. This module will be removed in 0.20.\n  \"This module will be removed in 0.20.\", DeprecationWarning)\n"
                }
            ], 
            "source": "from sklearn.cross_validation import train_test_split \n\nX_train, X_test, y_train, y_test = train_test_split(X, y, test_size=0.35, random_state=143)"
        }, 
        {
            "execution_count": 6, 
            "cell_type": "code", 
            "metadata": {}, 
            "outputs": [
                {
                    "output_type": "stream", 
                    "name": "stdout", 
                    "text": "Number of training records: 11070\nNumber of testing records : 6000\n"
                }
            ], 
            "source": "print(\"Number of training records: \" + str(X_train.size))\nprint(\"Number of testing records : \" + str(X_test.size))"
        }, 
        {
            "source": "Create the XGBoost model", 
            "cell_type": "markdown", 
            "metadata": {}
        }, 
        {
            "execution_count": 7, 
            "cell_type": "code", 
            "metadata": {}, 
            "outputs": [], 
            "source": "import xgboost\nfrom xgboost.sklearn import XGBClassifier\nfrom sklearn.pipeline import Pipeline\nfrom sklearn.preprocessing import StandardScaler\n\nfrom sklearn.cross_validation import cross_val_score\nfrom sklearn.metrics import accuracy_score\n\nfrom xgboost import plot_importance\nfrom matplotlib import pyplot\nimport pprint\n%matplotlib inline"
        }, 
        {
            "source": "In the cell below, we create our pipeline which contains the XGBoost classifier:", 
            "cell_type": "markdown", 
            "metadata": {}
        }, 
        {
            "execution_count": 8, 
            "cell_type": "code", 
            "metadata": {}, 
            "outputs": [], 
            "source": "pipeline = Pipeline([('scaler', StandardScaler()), ('classifier', XGBClassifier())])"
        }, 
        {
            "execution_count": 9, 
            "cell_type": "code", 
            "metadata": {}, 
            "outputs": [
                {
                    "execution_count": 9, 
                    "metadata": {}, 
                    "data": {
                        "text/plain": "Pipeline(memory=None,\n     steps=[('scaler', StandardScaler(copy=True, with_mean=True, with_std=True)), ('classifier', XGBClassifier(base_score=0.5, colsample_bylevel=1, colsample_bytree=1,\n       gamma=0, learning_rate=0.1, max_delta_step=0, max_depth=3,\n       min_child_weight=1, missing=None, n_estimators=100, nthread=-1,\n       objective='binary:logistic', reg_alpha=0, reg_lambda=1,\n       scale_pos_weight=1, seed=0, silent=True, subsample=1))])"
                    }, 
                    "output_type": "execute_result"
                }
            ], 
            "source": "pipeline"
        }, 
        {
            "source": "After we have set up our pipeline with the XGBoost classifier, we can train it by invoking the fit method.", 
            "cell_type": "markdown", 
            "metadata": {}
        }, 
        {
            "execution_count": 10, 
            "cell_type": "code", 
            "metadata": {}, 
            "outputs": [
                {
                    "execution_count": 10, 
                    "metadata": {}, 
                    "data": {
                        "text/plain": "Pipeline(memory=None,\n     steps=[('scaler', StandardScaler(copy=True, with_mean=True, with_std=True)), ('classifier', XGBClassifier(base_score=0.5, colsample_bylevel=1, colsample_bytree=1,\n       gamma=0, learning_rate=0.1, max_delta_step=0, max_depth=3,\n       min_child_weight=1, missing=None, n_estimators=100, nthread=-1,\n       objective='binary:logistic', reg_alpha=0, reg_lambda=1,\n       scale_pos_weight=1, seed=0, silent=True, subsample=1))])"
                    }, 
                    "output_type": "execute_result"
                }
            ], 
            "source": "pipeline.fit(X_train.values, y_train.values)"
        }, 
        {
            "execution_count": 11, 
            "cell_type": "code", 
            "metadata": {}, 
            "outputs": [
                {
                    "execution_count": 11, 
                    "metadata": {}, 
                    "data": {
                        "text/plain": "<matplotlib.axes._subplots.AxesSubplot at 0x2b7da34ba8d0>"
                    }, 
                    "output_type": "execute_result"
                }, 
                {
                    "output_type": "display_data", 
                    "data": {
                        "image/png": "[encoded data removed]", 
                        "text/plain": "<matplotlib.figure.Figure at 0x2b7da34a7940>"
                    }, 
                    "metadata": {}
                }
            ], 
            "source": "xgboost.plot_importance(pipeline.steps[1][1])"
        }, 
        {
            "execution_count": 12, 
            "cell_type": "code", 
            "metadata": {}, 
            "outputs": [], 
            "source": "y_pred = pipeline.predict(X_test.values)"
        }, 
        {
            "execution_count": 13, 
            "cell_type": "code", 
            "metadata": {}, 
            "outputs": [
                {
                    "output_type": "stream", 
                    "name": "stdout", 
                    "text": "Accuracy: 94.50%\n"
                }
            ], 
            "source": "accuracy = accuracy_score(y_test, y_pred)\nprint(\"Accuracy: %.2f%%\" % (accuracy * 100.0))"
        }, 
        {
            "source": "In below cell, we create our XGBoost pipeline and set up the parameter space.", 
            "cell_type": "markdown", 
            "metadata": {}
        }, 
        {
            "execution_count": 14, 
            "cell_type": "code", 
            "metadata": {}, 
            "outputs": [], 
            "source": "pipeline_gs = Pipeline([('scaler', StandardScaler()), ('classifier', XGBClassifier())])\nparameters = {'classifier__learning_rate': [0.01, 0.03], 'classifier__n_estimators': [50, 200]}"
        }, 
        {
            "source": "We can search for the best parameters over the specified parameters with GridSearchCV. You can use estimator.get_params().keys() to see the available hyperparameters for search.", 
            "cell_type": "markdown", 
            "metadata": {}
        }, 
        {
            "execution_count": 15, 
            "cell_type": "code", 
            "metadata": {}, 
            "outputs": [
                {
                    "output_type": "stream", 
                    "name": "stderr", 
                    "text": "/opt/conda/envs/DSX-Python35/lib/python3.5/site-packages/sklearn/grid_search.py:42: DeprecationWarning: This module was deprecated in version 0.18 in favor of the model_selection module into which all the refactored classes and functions are moved. This module will be removed in 0.20.\n  DeprecationWarning)\n"
                }
            ], 
            "source": "from sklearn.grid_search import GridSearchCV\nclf = GridSearchCV(pipeline_gs, parameters)"
        }, 
        {
            "execution_count": 16, 
            "cell_type": "code", 
            "metadata": {}, 
            "outputs": [
                {
                    "execution_count": 16, 
                    "metadata": {}, 
                    "data": {
                        "text/plain": "GridSearchCV(cv=None, error_score='raise',\n       estimator=Pipeline(memory=None,\n     steps=[('scaler', StandardScaler(copy=True, with_mean=True, with_std=True)), ('classifier', XGBClassifier(base_score=0.5, colsample_bylevel=1, colsample_bytree=1,\n       gamma=0, learning_rate=0.1, max_delta_step=0, max_depth=3,\n       min_child_weight=1, missing=None, n_estimators=100, nthread=-1,\n       objective='binary:logistic', reg_alpha=0, reg_lambda=1,\n       scale_pos_weight=1, seed=0, silent=True, subsample=1))]),\n       fit_params={}, iid=True, n_jobs=1,\n       param_grid={'classifier__learning_rate': [0.01, 0.03], 'classifier__n_estimators': [50, 200]},\n       pre_dispatch='2*n_jobs', refit=True, scoring=None, verbose=0)"
                    }, 
                    "output_type": "execute_result"
                }
            ], 
            "source": "clf.fit(X_train.values, y_train.values)"
        }, 
        {
            "source": "We can see the performance result of all parameter combinations including the best parameter combination based on the model performance from the grid search scores.", 
            "cell_type": "markdown", 
            "metadata": {}
        }, 
        {
            "execution_count": 17, 
            "cell_type": "code", 
            "metadata": {}, 
            "outputs": [
                {
                    "execution_count": 17, 
                    "metadata": {}, 
                    "data": {
                        "text/plain": "[mean: 0.93767, std: 0.01382, params: {'classifier__learning_rate': 0.01, 'classifier__n_estimators': 50},\n mean: 0.93225, std: 0.01382, params: {'classifier__learning_rate': 0.01, 'classifier__n_estimators': 200},\n mean: 0.92954, std: 0.01014, params: {'classifier__learning_rate': 0.03, 'classifier__n_estimators': 50},\n mean: 0.94309, std: 0.01150, params: {'classifier__learning_rate': 0.03, 'classifier__n_estimators': 200}]"
                    }, 
                    "output_type": "execute_result"
                }
            ], 
            "source": "clf.grid_scores_"
        }, 
        {
            "execution_count": 18, 
            "cell_type": "code", 
            "metadata": {}, 
            "outputs": [
                {
                    "output_type": "stream", 
                    "name": "stdout", 
                    "text": "Accuracy: 95.50%\n"
                }
            ], 
            "source": "y_pred = clf.predict(X_test.values)\n\naccuracy = accuracy_score(y_test, y_pred)\nprint(\"Accuracy: %.2f%%\" % (accuracy * 100.0))"
        }, 
        {
            "execution_count": 19, 
            "cell_type": "code", 
            "metadata": {}, 
            "outputs": [
                {
                    "output_type": "stream", 
                    "name": "stdout", 
                    "text": "[0]\n"
                }
            ], 
            "source": "y_pred = clf.predict([X_test.values[55]])\nprint(y_pred)"
        }, 
        {
            "source": "##### Persist model", 
            "cell_type": "markdown", 
            "metadata": {}
        }, 
        {
            "source": "In this section you will learn how to use Python client libraries to store your XGBoost model in the Watson Machine Learning repository.", 
            "cell_type": "markdown", 
            "metadata": {}
        }, 
        {
            "execution_count": 20, 
            "cell_type": "code", 
            "metadata": {}, 
            "outputs": [
                {
                    "output_type": "stream", 
                    "name": "stdout", 
                    "text": "Collecting watson_machine_learning_client\n  Downloading watson_machine_learning_client-1.0.83-py3-none-any.whl (565kB)\n\u001b[K    100% |\u2588\u2588\u2588\u2588\u2588\u2588\u2588\u2588\u2588\u2588\u2588\u2588\u2588\u2588\u2588\u2588\u2588\u2588\u2588\u2588\u2588\u2588\u2588\u2588\u2588\u2588\u2588\u2588\u2588\u2588\u2588\u2588| 573kB 1.6MB/s eta 0:00:01\n\u001b[?25hRequirement not upgraded as not directly required: tabulate in /opt/conda/envs/DSX-Python35/lib/python3.5/site-packages (from watson_machine_learning_client)\nRequirement not upgraded as not directly required: ibm-cos-sdk in /opt/conda/envs/DSX-Python35/lib/python3.5/site-packages (from watson_machine_learning_client)\nRequirement not upgraded as not directly required: urllib3 in /opt/conda/envs/DSX-Python35/lib/python3.5/site-packages (from watson_machine_learning_client)\nRequirement not upgraded as not directly required: requests in /opt/conda/envs/DSX-Python35/lib/python3.5/site-packages (from watson_machine_learning_client)\nRequirement not upgraded as not directly required: certifi in /opt/conda/envs/DSX-Python35/lib/python3.5/site-packages (from watson_machine_learning_client)\nRequirement not upgraded as not directly required: lomond in /opt/conda/envs/DSX-Python35/lib/python3.5/site-packages (from watson_machine_learning_client)\nRequirement not upgraded as not directly required: tqdm in /opt/conda/envs/DSX-Python35/lib/python3.5/site-packages (from watson_machine_learning_client)\nRequirement not upgraded as not directly required: pandas in /opt/conda/envs/DSX-Python35/lib/python3.5/site-packages (from watson_machine_learning_client)\nRequirement not upgraded as not directly required: ibm-cos-sdk-s3transfer==2.*,>=2.0.0 in /opt/conda/envs/DSX-Python35/lib/python3.5/site-packages (from ibm-cos-sdk->watson_machine_learning_client)\nRequirement not upgraded as not directly required: ibm-cos-sdk-core==2.*,>=2.0.0 in /opt/conda/envs/DSX-Python35/lib/python3.5/site-packages (from ibm-cos-sdk->watson_machine_learning_client)\nRequirement not upgraded as not directly required: chardet<3.1.0,>=3.0.2 in /opt/conda/envs/DSX-Python35/lib/python3.5/site-packages (from requests->watson_machine_learning_client)\nRequirement not upgraded as not directly required: idna<2.7,>=2.5 in /opt/conda/envs/DSX-Python35/lib/python3.5/site-packages (from requests->watson_machine_learning_client)\nRequirement not upgraded as not directly required: six>=1.10.0 in /opt/conda/envs/DSX-Python35/lib/python3.5/site-packages (from lomond->watson_machine_learning_client)\nRequirement not upgraded as not directly required: python-dateutil>=2 in /opt/conda/envs/DSX-Python35/lib/python3.5/site-packages (from pandas->watson_machine_learning_client)\nRequirement not upgraded as not directly required: pytz>=2011k in /opt/conda/envs/DSX-Python35/lib/python3.5/site-packages (from pandas->watson_machine_learning_client)\nRequirement not upgraded as not directly required: numpy>=1.9.0 in /opt/conda/envs/DSX-Python35/lib/python3.5/site-packages (from pandas->watson_machine_learning_client)\nRequirement not upgraded as not directly required: jmespath<1.0.0,>=0.7.1 in /opt/conda/envs/DSX-Python35/lib/python3.5/site-packages (from ibm-cos-sdk-core==2.*,>=2.0.0->ibm-cos-sdk->watson_machine_learning_client)\nRequirement not upgraded as not directly required: docutils>=0.10 in /opt/conda/envs/DSX-Python35/lib/python3.5/site-packages (from ibm-cos-sdk-core==2.*,>=2.0.0->ibm-cos-sdk->watson_machine_learning_client)\nInstalling collected packages: watson-machine-learning-client\n  Found existing installation: watson-machine-learning-client 1.0.12\n    Uninstalling watson-machine-learning-client-1.0.12:\n      Successfully uninstalled watson-machine-learning-client-1.0.12\nSuccessfully installed watson-machine-learning-client-1.0.83\n"
                }
            ], 
            "source": "!pip install watson_machine_learning_client --upgrade"
        }, 
        {
            "execution_count": 21, 
            "cell_type": "code", 
            "metadata": {}, 
            "outputs": [], 
            "source": "from watson_machine_learning_client import WatsonMachineLearningAPIClient"
        }, 
        {
            "execution_count": 22, 
            "cell_type": "code", 
            "metadata": {}, 
            "outputs": [], 
            "source": "wml_credentials={\n  \"url\": \"https://ibm-watson-ml.mybluemix.net\",\n  \"username\": \"fbfac066-e2ab-46e1-936e-ac16e49654b7\",\n  \"password\": \"a434ff95-73e2-4928-bae4-73f7c1d0eaca\",\n  \"instance_id\": \"9b3b2151-5e70-4708-aa94-34ee8950c309\"\n}"
        }, 
        {
            "source": "Create API client by running below code.", 
            "cell_type": "markdown", 
            "metadata": {}
        }, 
        {
            "execution_count": 23, 
            "cell_type": "code", 
            "metadata": {}, 
            "outputs": [], 
            "source": "client = WatsonMachineLearningAPIClient(wml_credentials)"
        }, 
        {
            "source": "Get instance details.", 
            "cell_type": "markdown", 
            "metadata": {}
        }, 
        {
            "execution_count": 24, 
            "cell_type": "code", 
            "metadata": {
                "collapsed": true
            }, 
            "outputs": [
                {
                    "output_type": "stream", 
                    "name": "stdout", 
                    "text": "{\n  \"entity\": {\n    \"usage\": {\n      \"model_count\": {\n        \"current\": 0,\n        \"limit\": 200\n      },\n      \"capacity_units\": {\n        \"current\": 0,\n        \"limit\": 180000000\n      },\n      \"prediction_count\": {\n        \"current\": 0,\n        \"limit\": 5000\n      },\n      \"computation_time\": {\n        \"current\": 0,\n        \"limit\": 180000\n      },\n      \"expiration_date\": \"2018-05-01T00:00:00.000Z\",\n      \"gpu_count\": {\n        \"current\": 0,\n        \"limit\": 8\n      },\n      \"deployment_count\": {\n        \"current\": 0,\n        \"limit\": 5\n      }\n    },\n    \"organization_guid\": \"94c012ff-24c2-494c-9de6-3ad823f0cc90\",\n    \"region\": \"us-south\",\n    \"published_models\": {\n      \"url\": \"https://ibm-watson-ml.mybluemix.net/v3/wml_instances/9b3b2151-5e70-4708-aa94-34ee8950c309/published_models\"\n    },\n    \"plan_id\": \"3f6acf43-ede8-413a-ac69-f8af3bb0cbfe\",\n    \"deployments\": {\n      \"url\": \"https://ibm-watson-ml.mybluemix.net/v3/wml_instances/9b3b2151-5e70-4708-aa94-34ee8950c309/deployments\"\n    },\n    \"source\": \"Bluemix\",\n    \"status\": \"Active\",\n    \"plan\": \"lite\",\n    \"account\": {\n      \"name\": \"RAMBABU CHINTA's Account\",\n      \"id\": \"9377e5c2cc326b6433b2cda1c7c3270d\",\n      \"type\": \"TRIAL\"\n    },\n    \"space_guid\": \"3ccaaacf-1e55-4faf-b372-9c7ef6150cf8\",\n    \"owner\": {\n      \"beta_user\": true,\n      \"country_code\": \"IND\",\n      \"email\": \"rambchin@in.ibm.com\",\n      \"ibm_id\": \"31000238GH\",\n      \"user_id\": \"a564151f-b42a-4291-8769-a660ba6ca04f\"\n    }\n  },\n  \"metadata\": {\n    \"created_at\": \"2018-04-06T15:42:50.528Z\",\n    \"url\": \"https://ibm-watson-ml.mybluemix.net/v3/wml_instances/9b3b2151-5e70-4708-aa94-34ee8950c309\",\n    \"modified_at\": \"2018-04-06T15:42:50.528Z\",\n    \"guid\": \"9b3b2151-5e70-4708-aa94-34ee8950c309\"\n  }\n}\n"
                }
            ], 
            "source": "import json\n\ninstance_details = client.service_instance.get_details()\nprint(json.dumps(instance_details, indent=2))"
        }, 
        {
            "source": "##### Publish model", 
            "cell_type": "markdown", 
            "metadata": {}
        }, 
        {
            "execution_count": 25, 
            "cell_type": "code", 
            "metadata": {}, 
            "outputs": [], 
            "source": "model_props = {client.repository.ModelMetaNames.AUTHOR_NAME: \"Rambabu Chinta\", \n               client.repository.ModelMetaNames.AUTHOR_EMAIL: \"rambchin@in.ibm.com\",\n               client.repository.ModelMetaNames.NAME: \"BC Model v1\"}"
        }, 
        {
            "execution_count": 26, 
            "cell_type": "code", 
            "metadata": {}, 
            "outputs": [], 
            "source": "published_model = client.repository.store_model(model=clf, meta_props=model_props)"
        }, 
        {
            "source": "##### Get model details", 
            "cell_type": "markdown", 
            "metadata": {}
        }, 
        {
            "execution_count": 27, 
            "cell_type": "code", 
            "metadata": {
                "collapsed": true
            }, 
            "outputs": [
                {
                    "output_type": "stream", 
                    "name": "stdout", 
                    "text": "{\n  \"entity\": {\n    \"model_type\": \"scikit-learn-0.19\",\n    \"evaluation_metrics_url\": \"https://ibm-watson-ml.mybluemix.net/v3/wml_instances/9b3b2151-5e70-4708-aa94-34ee8950c309/published_models/378f323c-e065-49d2-aabd-c79b39a66be3/evaluation_metrics\",\n    \"learning_iterations_url\": \"https://ibm-watson-ml.mybluemix.net/v3/wml_instances/9b3b2151-5e70-4708-aa94-34ee8950c309/published_models/378f323c-e065-49d2-aabd-c79b39a66be3/learning_iterations\",\n    \"author\": {\n      \"name\": \"Rambabu Chinta\"\n    },\n    \"name\": \"BC Model v1\",\n    \"learning_configuration_url\": \"https://ibm-watson-ml.mybluemix.net/v3/wml_instances/9b3b2151-5e70-4708-aa94-34ee8950c309/published_models/378f323c-e065-49d2-aabd-c79b39a66be3/learning_configuration\",\n    \"deployments\": {\n      \"url\": \"https://ibm-watson-ml.mybluemix.net/v3/wml_instances/9b3b2151-5e70-4708-aa94-34ee8950c309/published_models/378f323c-e065-49d2-aabd-c79b39a66be3/deployments\",\n      \"count\": 0\n    },\n    \"latest_version\": {\n      \"created_at\": \"2018-04-13T05:54:00.893Z\",\n      \"url\": \"https://ibm-watson-ml.mybluemix.net/v3/ml_assets/models/378f323c-e065-49d2-aabd-c79b39a66be3/versions/424dd902-d6a4-4c90-950a-e8fcc3a12b68\",\n      \"guid\": \"424dd902-d6a4-4c90-950a-e8fcc3a12b68\"\n    },\n    \"feedback_url\": \"https://ibm-watson-ml.mybluemix.net/v3/wml_instances/9b3b2151-5e70-4708-aa94-34ee8950c309/published_models/378f323c-e065-49d2-aabd-c79b39a66be3/feedback\",\n    \"runtime_environment\": \"python-3.5\"\n  },\n  \"metadata\": {\n    \"created_at\": \"2018-04-13T05:54:00.822Z\",\n    \"url\": \"https://ibm-watson-ml.mybluemix.net/v3/wml_instances/9b3b2151-5e70-4708-aa94-34ee8950c309/published_models/378f323c-e065-49d2-aabd-c79b39a66be3\",\n    \"modified_at\": \"2018-04-13T05:54:00.893Z\",\n    \"guid\": \"378f323c-e065-49d2-aabd-c79b39a66be3\"\n  }\n}\n"
                }
            ], 
            "source": "published_model_uid = client.repository.get_model_uid(published_model)\nmodel_details = client.repository.get_details(published_model_uid)\n\nprint(json.dumps(model_details, indent=2))"
        }, 
        {
            "source": "#### Load model", 
            "cell_type": "markdown", 
            "metadata": {}
        }, 
        {
            "source": "In this subsection you will learn how to load back saved model from specified instance of Watson Machine Learning.", 
            "cell_type": "markdown", 
            "metadata": {}
        }, 
        {
            "execution_count": 28, 
            "cell_type": "code", 
            "metadata": {}, 
            "outputs": [], 
            "source": "loaded_model = client.repository.load(published_model_uid)"
        }, 
        {
            "execution_count": 29, 
            "cell_type": "code", 
            "metadata": {}, 
            "outputs": [], 
            "source": "test_predictions = loaded_model.predict(X_test[:10].values)"
        }, 
        {
            "execution_count": 30, 
            "cell_type": "code", 
            "metadata": {}, 
            "outputs": [
                {
                    "output_type": "stream", 
                    "name": "stdout", 
                    "text": "[0 1 0 0 0 1 1 0 1 1]\n"
                }
            ], 
            "source": "print(test_predictions)"
        }, 
        {
            "source": "#### Create model deployment", 
            "cell_type": "markdown", 
            "metadata": {}
        }, 
        {
            "execution_count": 31, 
            "cell_type": "code", 
            "metadata": {}, 
            "outputs": [
                {
                    "output_type": "stream", 
                    "name": "stdout", 
                    "text": "\n\n#######################################################################################\n\nSynchronous deployment creation for uid: '3d546af9-1502-4cae-9d81-9ae83780748f' started\n\n#######################################################################################\n\n\nINITIALIZING\nDEPLOY_SUCCESS\n\n\n------------------------------------------------------------------------------------------------\nSuccessfully finished deployment creation, deployment_uid='3d546af9-1502-4cae-9d81-9ae83780748f'\n------------------------------------------------------------------------------------------------\n\n\n"
                }
            ], 
            "source": "created_deployment = client.deployments.create(published_model_uid, \"Deployment of BC v1 model\")"
        }, 
        {
            "execution_count": 32, 
            "cell_type": "code", 
            "metadata": {}, 
            "outputs": [
                {
                    "output_type": "stream", 
                    "name": "stdout", 
                    "text": "https://ibm-watson-ml.mybluemix.net/v3/wml_instances/9b3b2151-5e70-4708-aa94-34ee8950c309/published_models/378f323c-e065-49d2-aabd-c79b39a66be3/deployments/3d546af9-1502-4cae-9d81-9ae83780748f/online\n"
                }
            ], 
            "source": "scoring_endpoint = client.deployments.get_scoring_url(created_deployment)\nprint(scoring_endpoint)"
        }, 
        {
            "source": "Score:\nYou can use below method to do test scoring request against deployed model.\nAction: Prepare scoring payload with records to score.", 
            "cell_type": "markdown", 
            "metadata": {}
        }, 
        {
            "execution_count": 34, 
            "cell_type": "code", 
            "metadata": {}, 
            "outputs": [], 
            "source": "import urllib3, requests, json"
        }, 
        {
            "execution_count": 36, 
            "cell_type": "code", 
            "metadata": {}, 
            "outputs": [], 
            "source": "headers = urllib3.util.make_headers(basic_auth='{username}:{password}'.format(username=wml_credentials['username'], password=wml_credentials['password']))\nurl = '{}/v3/identity/token'.format(wml_credentials['url'])\nresponse = requests.get(url, headers=headers)\nmltoken = json.loads(response.text).get('token')\nheader = {'Content-Type': 'application/json', 'Authorization': 'Bearer ' + mltoken}"
        }, 
        {
            "source": "Action: Prepare scoring payload with records to score.", 
            "cell_type": "markdown", 
            "metadata": {}
        }, 
        {
            "execution_count": 73, 
            "cell_type": "code", 
            "metadata": {}, 
            "outputs": [], 
            "source": "# NOTE: manually define and pass the array(s) of values to be scored in the next line\npayload_scoring = {\n    \"fields\": list(X_test.columns),\n    \"values\": X_test[:10].values.tolist()\n}"
        }, 
        {
            "execution_count": 74, 
            "cell_type": "code", 
            "metadata": {}, 
            "outputs": [
                {
                    "output_type": "stream", 
                    "name": "stdout", 
                    "text": "Scoring response\n{'values': [[0, [0.9872725605964661, 0.01272746454924345]], [1, [0.003938615322113037, 0.996061384677887]], [0, [0.9899256229400635, 0.010074352845549583]], [0, [0.9595544934272766, 0.04044550284743309]], [0, [0.9961118102073669, 0.003888196311891079]], [1, [0.003610968589782715, 0.9963890314102173]], [1, [0.006175398826599121, 0.9938246011734009]], [0, [0.9903520941734314, 0.009647906757891178]], [1, [0.003875553607940674, 0.9961244463920593]], [1, [0.0045015811920166016, 0.9954984188079834]]], 'fields': ['prediction', 'probability']}\n"
                }
            ], 
            "source": "# payload_scoring = {\n#    \"values\": [[0.16, 0.20, 0.010, 0.081, 11.69, 13.19, 14.78, 848.8, 19.48, 627.7, 43.75, 1.23, 3.27, 0.44, 6697.0, 208.3, 324.8, 139.2, 153.6, 2789.0, 0.2, 0.30, 0.013, 0.001, 15.90, 29.47, 35.97, 15.83, 31.03, 0.08]]        \n# }\n\nresponse_scoring = requests.post(scoring_endpoint, json=payload_scoring, headers=header)\nprint(\"Scoring response\")\nprint(json.loads(response_scoring.text))"
        }
    ], 
    "metadata": {
        "kernelspec": {
            "display_name": "Python 3.5", 
            "name": "python3", 
            "language": "python"
        }, 
        "language_info": {
            "mimetype": "text/x-python", 
            "nbconvert_exporter": "python", 
            "version": "3.5.4", 
            "name": "python", 
            "file_extension": ".py", 
            "pygments_lexer": "ipython3", 
            "codemirror_mode": {
                "version": 3, 
                "name": "ipython"
            }
        }
    }, 
    "nbformat": 4
}